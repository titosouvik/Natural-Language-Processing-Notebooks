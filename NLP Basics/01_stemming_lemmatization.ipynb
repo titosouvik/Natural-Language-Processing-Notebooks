{
 "cells": [
  {
   "cell_type": "markdown",
   "metadata": {},
   "source": [
    "### Basic Text Preprocessing"
   ]
  },
  {
   "cell_type": "markdown",
   "metadata": {},
   "source": [
    "#### Stemming and Lemmatization"
   ]
  },
  {
   "cell_type": "code",
   "execution_count": 1,
   "metadata": {},
   "outputs": [],
   "source": [
    "import nltk\n",
    "from nltk.stem import PorterStemmer"
   ]
  },
  {
   "cell_type": "markdown",
   "metadata": {},
   "source": [
    "Difference between Stemming and Lemmatization:\n",
    " \n",
    "Stemming is very crude, it just chops of end of the words mostly. Result might not be actual words\n",
    "\n",
    "Lemmatization uses rules of language, hence returns actual words\n"
   ]
  },
  {
   "cell_type": "code",
   "execution_count": 2,
   "metadata": {},
   "outputs": [],
   "source": [
    "porter = PorterStemmer()"
   ]
  },
  {
   "cell_type": "code",
   "execution_count": 3,
   "metadata": {},
   "outputs": [
    {
     "data": {
      "text/plain": [
       "'walk'"
      ]
     },
     "execution_count": 3,
     "metadata": {},
     "output_type": "execute_result"
    }
   ],
   "source": [
    "porter.stem(\"walking\")"
   ]
  },
  {
   "cell_type": "code",
   "execution_count": 4,
   "metadata": {},
   "outputs": [
    {
     "data": {
      "text/plain": [
       "'walk'"
      ]
     },
     "execution_count": 4,
     "metadata": {},
     "output_type": "execute_result"
    }
   ],
   "source": [
    "porter.stem(\"walked\")"
   ]
  },
  {
   "cell_type": "code",
   "execution_count": 5,
   "metadata": {},
   "outputs": [
    {
     "data": {
      "text/plain": [
       "'replac'"
      ]
     },
     "execution_count": 5,
     "metadata": {},
     "output_type": "execute_result"
    }
   ],
   "source": [
    "porter.stem(\"replacement\")"
   ]
  },
  {
   "cell_type": "code",
   "execution_count": 6,
   "metadata": {},
   "outputs": [
    {
     "data": {
      "text/plain": [
       "['Difference',\n",
       " 'between',\n",
       " 'Stemming',\n",
       " 'and',\n",
       " 'Lemmatization-Stemming',\n",
       " 'is',\n",
       " 'very',\n",
       " 'crude,',\n",
       " 'it',\n",
       " 'just',\n",
       " 'chops',\n",
       " 'of',\n",
       " 'end',\n",
       " 'of',\n",
       " 'the',\n",
       " 'words',\n",
       " 'mostly.',\n",
       " 'Result',\n",
       " 'might',\n",
       " 'not',\n",
       " 'be',\n",
       " 'actual',\n",
       " 'words.',\n",
       " 'Lemmatization',\n",
       " 'uses',\n",
       " 'rules',\n",
       " 'of',\n",
       " 'language,',\n",
       " 'hence',\n",
       " 'returns',\n",
       " 'actual',\n",
       " 'words']"
      ]
     },
     "execution_count": 6,
     "metadata": {},
     "output_type": "execute_result"
    }
   ],
   "source": [
    "sentence = \"Difference between Stemming and Lemmatization-Stemming is very crude, it just chops of end of the words mostly. Result might not be actual words. Lemmatization uses rules of language, hence returns actual words\".split()\n",
    "\n",
    "sentence"
   ]
  },
  {
   "cell_type": "code",
   "execution_count": 7,
   "metadata": {},
   "outputs": [
    {
     "name": "stdout",
     "output_type": "stream",
     "text": [
      "differ\n",
      "between\n",
      "stem\n",
      "and\n",
      "lemmatization-stem\n",
      "is\n",
      "veri\n",
      "crude,\n",
      "it\n",
      "just\n",
      "chop\n",
      "of\n",
      "end\n",
      "of\n",
      "the\n",
      "word\n",
      "mostly.\n",
      "result\n",
      "might\n",
      "not\n",
      "be\n",
      "actual\n",
      "words.\n",
      "lemmat\n",
      "use\n",
      "rule\n",
      "of\n",
      "language,\n",
      "henc\n",
      "return\n",
      "actual\n",
      "word\n"
     ]
    }
   ],
   "source": [
    "for token in sentence:\n",
    "    print(porter.stem(token))"
   ]
  },
  {
   "cell_type": "code",
   "execution_count": 8,
   "metadata": {},
   "outputs": [
    {
     "name": "stderr",
     "output_type": "stream",
     "text": [
      "[nltk_data] Downloading package wordnet to /home/souvik/nltk_data...\n",
      "[nltk_data]   Package wordnet is already up-to-date!\n",
      "[nltk_data] Downloading package omw-1.4 to /home/souvik/nltk_data...\n",
      "[nltk_data]   Package omw-1.4 is already up-to-date!\n"
     ]
    },
    {
     "data": {
      "text/plain": [
       "True"
      ]
     },
     "execution_count": 8,
     "metadata": {},
     "output_type": "execute_result"
    }
   ],
   "source": [
    "from nltk.stem import WordNetLemmatizer\n",
    "nltk.download(\"wordnet\")\n",
    "from nltk.corpus import wordnet\n",
    "nltk.download('omw-1.4')"
   ]
  },
  {
   "cell_type": "code",
   "execution_count": 9,
   "metadata": {},
   "outputs": [],
   "source": [
    "lemmatizer = WordNetLemmatizer()"
   ]
  },
  {
   "cell_type": "code",
   "execution_count": 10,
   "metadata": {},
   "outputs": [
    {
     "data": {
      "text/plain": [
       "'walking'"
      ]
     },
     "execution_count": 10,
     "metadata": {},
     "output_type": "execute_result"
    }
   ],
   "source": [
    "lemmatizer.lemmatize('walking')"
   ]
  },
  {
   "cell_type": "code",
   "execution_count": 11,
   "metadata": {},
   "outputs": [
    {
     "data": {
      "text/plain": [
       "'walk'"
      ]
     },
     "execution_count": 11,
     "metadata": {},
     "output_type": "execute_result"
    }
   ],
   "source": [
    "## Specifying POS for lemmatization\n",
    "lemmatizer.lemmatize('walking',pos = wordnet.VERB)"
   ]
  },
  {
   "cell_type": "code",
   "execution_count": 12,
   "metadata": {},
   "outputs": [
    {
     "data": {
      "text/plain": [
       "'go'"
      ]
     },
     "execution_count": 12,
     "metadata": {},
     "output_type": "execute_result"
    }
   ],
   "source": [
    "lemmatizer.lemmatize('going',pos = wordnet.VERB)"
   ]
  },
  {
   "cell_type": "code",
   "execution_count": 13,
   "metadata": {},
   "outputs": [
    {
     "data": {
      "text/plain": [
       "'mouse'"
      ]
     },
     "execution_count": 13,
     "metadata": {},
     "output_type": "execute_result"
    }
   ],
   "source": [
    "lemmatizer.lemmatize('mice')"
   ]
  },
  {
   "cell_type": "code",
   "execution_count": 14,
   "metadata": {},
   "outputs": [
    {
     "name": "stdout",
     "output_type": "stream",
     "text": [
      "Difference\n",
      "between\n",
      "Stemming\n",
      "and\n",
      "Lemmatization-Stemming\n",
      "is\n",
      "very\n",
      "crude,\n",
      "it\n",
      "just\n",
      "chop\n",
      "of\n",
      "end\n",
      "of\n",
      "the\n",
      "word\n",
      "mostly.\n",
      "Result\n",
      "might\n",
      "not\n",
      "be\n",
      "actual\n",
      "words.\n",
      "Lemmatization\n",
      "us\n",
      "rule\n",
      "of\n",
      "language,\n",
      "hence\n",
      "return\n",
      "actual\n",
      "word\n"
     ]
    }
   ],
   "source": [
    "for token in sentence:\n",
    "    print(lemmatizer.lemmatize(token))"
   ]
  },
  {
   "cell_type": "code",
   "execution_count": 15,
   "metadata": {},
   "outputs": [
    {
     "data": {
      "text/plain": [
       "'good'"
      ]
     },
     "execution_count": 15,
     "metadata": {},
     "output_type": "execute_result"
    }
   ],
   "source": [
    "lemmatizer.lemmatize('better',pos = wordnet.ADJ)"
   ]
  },
  {
   "cell_type": "code",
   "execution_count": 16,
   "metadata": {},
   "outputs": [],
   "source": [
    "## Part of Speech tagging"
   ]
  },
  {
   "cell_type": "code",
   "execution_count": 17,
   "metadata": {},
   "outputs": [],
   "source": [
    "def get_word_pos(tag):\n",
    "    if tag.startswith('J'):\n",
    "        return wordnet.ADJ\n",
    "    elif tag.startswith('V'):\n",
    "        return wordnet.VERB\n",
    "    elif tag.startswith('N'):\n",
    "        return wordnet.NOUN\n",
    "    elif tag.startswith('R'):\n",
    "        return wordnet.ADV\n",
    "    else:\n",
    "        return wordnet.NOUN"
   ]
  },
  {
   "cell_type": "code",
   "execution_count": 18,
   "metadata": {},
   "outputs": [
    {
     "name": "stderr",
     "output_type": "stream",
     "text": [
      "[nltk_data] Downloading package averaged_perceptron_tagger to\n",
      "[nltk_data]     /home/souvik/nltk_data...\n",
      "[nltk_data]   Package averaged_perceptron_tagger is already up-to-\n",
      "[nltk_data]       date!\n"
     ]
    },
    {
     "data": {
      "text/plain": [
       "True"
      ]
     },
     "execution_count": 18,
     "metadata": {},
     "output_type": "execute_result"
    }
   ],
   "source": [
    "nltk.download('averaged_perceptron_tagger') ## For detecting POS"
   ]
  },
  {
   "cell_type": "code",
   "execution_count": 19,
   "metadata": {},
   "outputs": [
    {
     "data": {
      "text/plain": [
       "[('Difference', 'NN'),\n",
       " ('between', 'IN'),\n",
       " ('Stemming', 'VBG'),\n",
       " ('and', 'CC'),\n",
       " ('Lemmatization-Stemming', 'NNP'),\n",
       " ('is', 'VBZ'),\n",
       " ('very', 'RB'),\n",
       " ('crude,', 'JJ'),\n",
       " ('it', 'PRP'),\n",
       " ('just', 'RB'),\n",
       " ('chops', 'NNS'),\n",
       " ('of', 'IN'),\n",
       " ('end', 'NN'),\n",
       " ('of', 'IN'),\n",
       " ('the', 'DT'),\n",
       " ('words', 'NNS'),\n",
       " ('mostly.', 'VBP'),\n",
       " ('Result', 'NNP'),\n",
       " ('might', 'MD'),\n",
       " ('not', 'RB'),\n",
       " ('be', 'VB'),\n",
       " ('actual', 'JJ'),\n",
       " ('words.', 'JJ'),\n",
       " ('Lemmatization', 'NNP'),\n",
       " ('uses', 'VBZ'),\n",
       " ('rules', 'NNS'),\n",
       " ('of', 'IN'),\n",
       " ('language,', 'JJ'),\n",
       " ('hence', 'NN'),\n",
       " ('returns', 'NNS'),\n",
       " ('actual', 'JJ'),\n",
       " ('words', 'NNS')]"
      ]
     },
     "execution_count": 19,
     "metadata": {},
     "output_type": "execute_result"
    }
   ],
   "source": [
    "words_tags = nltk.pos_tag(sentence)\n",
    "words_tags"
   ]
  },
  {
   "cell_type": "code",
   "execution_count": 20,
   "metadata": {},
   "outputs": [
    {
     "name": "stdout",
     "output_type": "stream",
     "text": [
      "Difference\n",
      "between\n",
      "Stemming\n",
      "and\n",
      "Lemmatization-Stemming\n",
      "be\n",
      "very\n",
      "crude,\n",
      "it\n",
      "just\n",
      "chop\n",
      "of\n",
      "end\n",
      "of\n",
      "the\n",
      "word\n",
      "mostly.\n",
      "Result\n",
      "might\n",
      "not\n",
      "be\n",
      "actual\n",
      "words.\n",
      "Lemmatization\n",
      "use\n",
      "rule\n",
      "of\n",
      "language,\n",
      "hence\n",
      "return\n",
      "actual\n",
      "word\n"
     ]
    }
   ],
   "source": [
    "for word, tag in words_tags:\n",
    "    lemma = lemmatizer.lemmatize(word,pos = get_word_pos(tag))\n",
    "    print(lemma)\n",
    "    "
   ]
  },
  {
   "cell_type": "code",
   "execution_count": null,
   "metadata": {},
   "outputs": [],
   "source": []
  }
 ],
 "metadata": {
  "kernelspec": {
   "display_name": "Python 3.8.13 ('nlp-env')",
   "language": "python",
   "name": "python3"
  },
  "language_info": {
   "codemirror_mode": {
    "name": "ipython",
    "version": 3
   },
   "file_extension": ".py",
   "mimetype": "text/x-python",
   "name": "python",
   "nbconvert_exporter": "python",
   "pygments_lexer": "ipython3",
   "version": "3.7.13"
  },
  "orig_nbformat": 4,
  "vscode": {
   "interpreter": {
    "hash": "8d27b443ce4167dfcd29ad3a5adeb6aa3e88399a6f48028c2af6ddb3096f49ed"
   }
  }
 },
 "nbformat": 4,
 "nbformat_minor": 2
}
